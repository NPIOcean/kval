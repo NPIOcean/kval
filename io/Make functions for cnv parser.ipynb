{
 "cells": [
  {
   "cell_type": "code",
   "execution_count": 1,
   "id": "f3b6bd3f-47ba-4ce1-9b0a-d0b5a0a51573",
   "metadata": {},
   "outputs": [],
   "source": [
    "import pandas as pd"
   ]
  },
  {
   "cell_type": "code",
   "execution_count": 2,
   "id": "716ddd4b-7768-41ce-b25f-46fcca844f51",
   "metadata": {},
   "outputs": [],
   "source": [
    "fn = 'Sta0001.cnv'"
   ]
  },
  {
   "cell_type": "code",
   "execution_count": 31,
   "id": "e646d18d-5b17-4fec-a142-06a369156027",
   "metadata": {},
   "outputs": [
    {
     "ename": "NameError",
     "evalue": "name 'joinline' is not defined",
     "output_type": "error",
     "traceback": [
      "\u001b[0;31m---------------------------------------------------------------------------\u001b[0m",
      "\u001b[0;31mNameError\u001b[0m                                 Traceback (most recent call last)",
      "Cell \u001b[0;32mIn[31], line 1\u001b[0m\n\u001b[0;32m----> 1\u001b[0m \u001b[43mjoinline\u001b[49m\u001b[38;5;241m.\u001b[39msplit()[\u001b[38;5;241m5\u001b[39m:]\n",
      "\u001b[0;31mNameError\u001b[0m: name 'joinline' is not defined"
     ]
    }
   ],
   "source": [
    "joinline.split()[5:]"
   ]
  },
  {
   "cell_type": "code",
   "execution_count": 33,
   "id": "1ae4dd6b-066d-45c6-9cb5-921f407fd651",
   "metadata": {},
   "outputs": [
    {
     "data": {
      "text/plain": [
       "\u001b[0;31mSignature:\u001b[0m \u001b[0mstr\u001b[0m\u001b[0;34m.\u001b[0m\u001b[0mjoin\u001b[0m\u001b[0;34m(\u001b[0m\u001b[0mself\u001b[0m\u001b[0;34m,\u001b[0m \u001b[0miterable\u001b[0m\u001b[0;34m,\u001b[0m \u001b[0;34m/\u001b[0m\u001b[0;34m)\u001b[0m\u001b[0;34m\u001b[0m\u001b[0;34m\u001b[0m\u001b[0m\n",
       "\u001b[0;31mDocstring:\u001b[0m\n",
       "Concatenate any number of strings.\n",
       "\n",
       "The string whose method is called is inserted in between each given string.\n",
       "The result is returned as a new string.\n",
       "\n",
       "Example: '.'.join(['ab', 'pq', 'rs']) -> 'ab.pq.rs'\n",
       "\u001b[0;31mType:\u001b[0m      method_descriptor"
      ]
     },
     "metadata": {},
     "output_type": "display_data"
    }
   ],
   "source": [
    "str.join??"
   ]
  },
  {
   "cell_type": "code",
   "execution_count": 37,
   "id": "2641cca8-f28e-415a-94bf-3c928a48b470",
   "metadata": {},
   "outputs": [],
   "source": [
    "col_longname = ' '.join(line.split()[5:])"
   ]
  },
  {
   "cell_type": "code",
   "execution_count": 38,
   "id": "63ecf78b-d1d4-48c7-9684-ec8403d83113",
   "metadata": {},
   "outputs": [
    {
     "data": {
      "text/plain": [
       "'Pressure, Digiquartz [db]'"
      ]
     },
     "execution_count": 38,
     "metadata": {},
     "output_type": "execute_result"
    }
   ],
   "source": [
    "col_longname"
   ]
  },
  {
   "cell_type": "code",
   "execution_count": 149,
   "id": "e1693a4b-336c-4d51-ad02-f1eaab4d4c47",
   "metadata": {},
   "outputs": [],
   "source": [
    "with open(fn, 'r') as f:\n",
    "\n",
    "    hkeys = ['col_nums', 'col_names', 'col_longnames', 'SN_info', 'moon_pool', 'SBEproc_hist', 'hdr_end_line', 'latitude', 'longitude', 'time']\n",
    "    \n",
    "    hdict = {hkey:[] for hkey in hkeys}\n",
    "    start_read_history = False # Flag that will be turned on when we read the SBE history section \n",
    "\n",
    "    for n_line, line in enumerate(f.readlines()):\n",
    "\n",
    "        # Read the column header info (which variable is in which data column)\n",
    "        if '# name' in line:\n",
    "            hdict['col_nums'] += [int(line.split()[2])]\n",
    "            hdict['col_names'] += [line.split()[4]]\n",
    "            hdict['col_longnames'] += [' '.join(line.split()[5:])]            \n",
    "\n",
    "        # Read NMEA lat/lon/time\n",
    "        if 'NMEA Latitude' in line:\n",
    "            hdict['latitude'] = _nmea_lat_to_decdeg(*line.split()[-3:])\n",
    "        if 'NMEA Longitude' in line:\n",
    "            hdict['longitude'] = _nmea_lon_to_decdeg(*line.split()[-3:])\n",
    "\n",
    "        if 'NMEA UTC' in line:\n",
    "\n",
    "            nmea_time_split = line.split()[-4:]\n",
    "            hdict['time'] = _nmea_time_to_datetime(*nmea_time_split)\n",
    "            \n",
    "        # Read serial numbers\n",
    "        if ' SN' in line:\n",
    "            sn_info_str = ' '.join(line.split()[1:])\n",
    "            hdict['SN_info'] += [sn_info_str]\n",
    "\n",
    "        # Read moon pool info\n",
    "        if 'Skuteside' in line:\n",
    "            mp_str = line.split()[-1]\n",
    "            if mp_str == 'M':\n",
    "                hdict['moon_pool'] = True\n",
    "            elif mp_str == 'S':\n",
    "                hdict['moon_pool'] = False\n",
    "\n",
    "        # At the end of the SENSORS section: read the history lines\n",
    "        if '</Sensors>' in line:\n",
    "            start_read_history = True\n",
    "            \n",
    "        if start_read_history:\n",
    "            hdict['SBEproc_hist'] += [line] \n",
    "        \n",
    "        # Read the line containing the END string\n",
    "        # (and stop reading the file after that)\n",
    "        if '*END*' in line:\n",
    "            hdict['hdr_end_line'] = n_line\n",
    "            break"
   ]
  },
  {
   "cell_type": "code",
   "execution_count": 150,
   "id": "adbc29ff-6caa-4086-9233-750f4bf8e9d5",
   "metadata": {},
   "outputs": [
    {
     "data": {
      "text/plain": [
       "{'col_nums': [0, 1, 2, 3, 4, 5, 6, 7, 8, 9, 10, 11, 12, 13, 14],\n",
       " 'col_names': ['prDM:',\n",
       "  't090C:',\n",
       "  't190C:',\n",
       "  'c0S/m:',\n",
       "  'c1S/m:',\n",
       "  'sbox0Mm/Kg:',\n",
       "  'wetCDOM:',\n",
       "  'flECO-AFL:',\n",
       "  'CStarAt0:',\n",
       "  'timeS:',\n",
       "  'latitude:',\n",
       "  'longitude:',\n",
       "  'sal00:',\n",
       "  'sal11:',\n",
       "  'flag:'],\n",
       " 'col_longnames': ['Pressure, Digiquartz [db]',\n",
       "  'Temperature [ITS-90, deg C]',\n",
       "  'Temperature, 2 [ITS-90, deg C]',\n",
       "  'Conductivity [S/m]',\n",
       "  'Conductivity, 2 [S/m]',\n",
       "  'Oxygen, SBE 43 [umol/kg]',\n",
       "  'Fluorescence, WET Labs CDOM [mg/m^3]',\n",
       "  'Fluorescence, WET Labs ECO-AFL/FL [mg/m^3]',\n",
       "  'Beam Attenuation, WET Labs C-Star [1/m]',\n",
       "  'Time, Elapsed [seconds]',\n",
       "  'Latitude [deg]',\n",
       "  'Longitude [deg]',\n",
       "  'Salinity, Practical [PSU]',\n",
       "  'Salinity, Practical, 2 [PSU]',\n",
       "  'flag'],\n",
       " 'SN_info': ['Temperature SN = 5884', 'Conductivity SN = 2860'],\n",
       " 'moon_pool': False,\n",
       " 'SBEproc_hist': ['# </Sensors>\\n',\n",
       "  '# datcnv_date = Oct 05 2023 12:14:33, 7.26.7.129 [datcnv_vars = 12]\\n',\n",
       "  '# datcnv_in = Z:\\\\cruise_data\\\\ctd_classic_test\\\\ctd_cl_test\\\\raw\\\\sta0001.hex Z:\\\\cruise_data\\\\ctd_classic_test\\\\ctd_cl_test\\\\setup\\\\Sta0001.XMLCON\\n',\n",
       "  '# datcnv_skipover = 0\\n',\n",
       "  '# datcnv_ox_hysteresis_correction = yes\\n',\n",
       "  '# datcnv_ox_tau_correction = yes\\n',\n",
       "  '# filter_date = Oct 05 2023 12:14:34, 7.26.7.129\\n',\n",
       "  '# filter_in = Z:\\\\cruise_data\\\\ctd_classic_test\\\\ctd_cl_test\\\\proc\\\\sta0001.cnv\\n',\n",
       "  '# filter_low_pass_tc_A = 0.030\\n',\n",
       "  '# filter_low_pass_tc_B = 0.150\\n',\n",
       "  '# filter_low_pass_A_vars = sbox0Mm/Kg\\n',\n",
       "  '# filter_low_pass_B_vars = prDM wetCDOM flECO-AFL CStarAt0\\n',\n",
       "  '# celltm_date = Oct 05 2023 12:14:34, 7.26.7.129\\n',\n",
       "  '# celltm_in = Z:\\\\cruise_data\\\\ctd_classic_test\\\\ctd_cl_test\\\\proc\\\\sta0001.cnv\\n',\n",
       "  '# celltm_alpha = 0.0300, 0.0300\\n',\n",
       "  '# celltm_tau = 7.0000, 7.0000\\n',\n",
       "  '# celltm_temp_sensor_use_for_cond = primary, secondary\\n',\n",
       "  '# loopedit_date = Oct 05 2023 12:14:34, 7.26.7.129\\n',\n",
       "  '# loopedit_in = Z:\\\\cruise_data\\\\ctd_classic_test\\\\ctd_cl_test\\\\proc\\\\sta0001.cnv\\n',\n",
       "  '# loopedit_minVelocity = 0.250                                                                                            \\n',\n",
       "  '# loopedit_surfaceSoak: minDepth = 15.0, maxDepth = 25, useDeckPress = 0                                                  \\n',\n",
       "  '# loopedit_excl_bad_scans = yes\\n',\n",
       "  '# Derive_date = Oct 05 2023 12:14:35, 7.26.7.129 [derive_vars = 2]\\n',\n",
       "  '# Derive_in = Z:\\\\cruise_data\\\\ctd_classic_test\\\\ctd_cl_test\\\\proc\\\\sta0001.cnv Z:\\\\cruise_data\\\\ctd_classic_test\\\\ctd_cl_test\\\\setup\\\\Sta0001.XMLCON\\n',\n",
       "  '# file_type = ascii\\n',\n",
       "  '*END*\\n'],\n",
       " 'hdr_end_line': 319,\n",
       " 'latitude': 81.26816666666667,\n",
       " 'longitude': -9.785833333333333,\n",
       " 'time': Timestamp('2000-01-01 06:43:32')}"
      ]
     },
     "execution_count": 150,
     "metadata": {},
     "output_type": "execute_result"
    }
   ],
   "source": [
    "hdict"
   ]
  },
  {
   "cell_type": "code",
   "execution_count": 133,
   "id": "62bef11a-824f-402d-9adb-6518c0ef86df",
   "metadata": {},
   "outputs": [],
   "source": [
    "nmeatime = '* NMEA UTC (Time) = Jan 05 2021  15:58:23'\n",
    "\n",
    "nmea_time_str = ' '.join(nmea_time_split)\n",
    "pd.to_datetime(nmea_time_str, format = '%b %d %Y %H:%M:%S')"
   ]
  },
  {
   "cell_type": "code",
   "execution_count": 141,
   "id": "b4ece3b6-e32c-48ee-a9c2-d4ab4b74a6ac",
   "metadata": {},
   "outputs": [
    {
     "data": {
      "text/plain": [
       "['Jan', '05', '2021', '15:58:23']"
      ]
     },
     "execution_count": 141,
     "metadata": {},
     "output_type": "execute_result"
    }
   ],
   "source": [
    "nmea_time_split"
   ]
  },
  {
   "cell_type": "code",
   "execution_count": 135,
   "id": "0d331534-d70c-4cbe-9a79-4d5a0728acdf",
   "metadata": {},
   "outputs": [],
   "source": [
    "import pandas as pd"
   ]
  },
  {
   "cell_type": "code",
   "execution_count": 140,
   "id": "fd107acc-8600-4715-ba1e-a9583051ebc3",
   "metadata": {},
   "outputs": [
    {
     "data": {
      "text/plain": [
       "Timestamp('2021-01-05 15:58:23')"
      ]
     },
     "execution_count": 140,
     "metadata": {},
     "output_type": "execute_result"
    }
   ],
   "source": [
    "pd.to_datetime(nmea_time_str)"
   ]
  },
  {
   "cell_type": "code",
   "execution_count": 139,
   "id": "15a04aee-5751-44a6-bdcb-47456f8ab500",
   "metadata": {},
   "outputs": [
    {
     "data": {
      "text/plain": [
       "Timestamp('2021-01-05 15:58:23')"
      ]
     },
     "execution_count": 139,
     "metadata": {},
     "output_type": "execute_result"
    }
   ],
   "source": [
    "pd.to_datetime(nmea_time_str, format = '%b %d %Y %H:%M:%S')"
   ]
  },
  {
   "cell_type": "code",
   "execution_count": 134,
   "id": "7e488153-c7d5-4d40-93c1-7c38ea81cd28",
   "metadata": {},
   "outputs": [
    {
     "data": {
      "text/plain": [
       "'Jan 05 2021 15:58:23'"
      ]
     },
     "execution_count": 134,
     "metadata": {},
     "output_type": "execute_result"
    }
   ],
   "source": [
    "nmea_time_str"
   ]
  },
  {
   "cell_type": "code",
   "execution_count": 143,
   "id": "117550a8-56c6-4cbb-8faf-1803bc55ac0c",
   "metadata": {},
   "outputs": [],
   "source": [
    "def _nmea_time_to_datetime(mon, da, yr, hms):\n",
    "    '''\n",
    "    Convert NMEA time to datetime timestamp.\n",
    "    \n",
    "    E.g.:\n",
    "    \n",
    "    ['Jan', '05', '2021', '15:58:23']  --> Timestamp('2021-01-05 15:58:23')\n",
    "    '''\n",
    "    nmea_time_str = ' '.join(nmea_time_split)\n",
    "    nmea_time_dt = pd.to_datetime(nmea_time_str, format = '%b %d %Y %H:%M:%S')\n",
    "    \n",
    "    return nmea_time_dt"
   ]
  },
  {
   "cell_type": "code",
   "execution_count": 146,
   "id": "414cf6a6-c8e9-4292-8738-059d82e106f9",
   "metadata": {},
   "outputs": [
    {
     "data": {
      "text/plain": [
       "Timestamp('2021-01-05 15:58:23')"
      ]
     },
     "execution_count": 146,
     "metadata": {},
     "output_type": "execute_result"
    }
   ],
   "source": [
    "_nmea_time_to_datetime(*nmea_time_split)"
   ]
  },
  {
   "cell_type": "code",
   "execution_count": 117,
   "id": "7337f596-fb4f-428d-a93a-e24e88b6d5ab",
   "metadata": {},
   "outputs": [],
   "source": [
    "def _nmea_lon_to_decdeg(deg_str, min_str, EW_str):\n",
    "    '''\n",
    "    Convert NMEA longitude to decimal degrees longitude.\n",
    "    \n",
    "    E.g.:\n",
    "    \n",
    "    ['006', '02.87', 'E'] (string) --> 6.04783333 (float)\n",
    "    '''\n",
    "\n",
    "    if EW_str=='E':\n",
    "        dec_sign = 1\n",
    "    elif EW_str=='W':\n",
    "        dec_sign = -1\n",
    "\n",
    "    decdeg = int(deg_str) + float(min_str)/60 \n",
    "\n",
    "    return decdeg*dec_sign\n",
    "\n",
    "\n",
    "def _nmea_lat_to_decdeg(deg_str, min_str, NS_str):\n",
    "    '''\n",
    "    Convert NMEA latitude to decimal degrees latitude.\n",
    "    \n",
    "    E.g.:\n",
    "    \n",
    "    ['69', '03.65', 'S'] (string) --> -69.060833 (float)\n",
    "    '''\n",
    "    \n",
    "    if NS_str=='N':\n",
    "        dec_sign = 1\n",
    "    elif NS_str=='S':\n",
    "        dec_sign = -1\n",
    "\n",
    "    decdeg = int(deg_str) + float(min_str)/60 \n",
    "\n",
    "    return decdeg*dec_sign"
   ]
  },
  {
   "cell_type": "code",
   "execution_count": 127,
   "id": "0f4fcd1d-b6de-402a-9da7-e9606561c87a",
   "metadata": {},
   "outputs": [
    {
     "data": {
      "text/plain": [
       "{'col_nums': [0, 1, 2, 3, 4, 5, 6, 7, 8, 9, 10, 11, 12, 13, 14],\n",
       " 'col_names': ['prDM:',\n",
       "  't090C:',\n",
       "  't190C:',\n",
       "  'c0S/m:',\n",
       "  'c1S/m:',\n",
       "  'sbox0Mm/Kg:',\n",
       "  'wetCDOM:',\n",
       "  'flECO-AFL:',\n",
       "  'CStarAt0:',\n",
       "  'timeS:',\n",
       "  'latitude:',\n",
       "  'longitude:',\n",
       "  'sal00:',\n",
       "  'sal11:',\n",
       "  'flag:'],\n",
       " 'col_longnames': ['Pressure, Digiquartz [db]',\n",
       "  'Temperature [ITS-90, deg C]',\n",
       "  'Temperature, 2 [ITS-90, deg C]',\n",
       "  'Conductivity [S/m]',\n",
       "  'Conductivity, 2 [S/m]',\n",
       "  'Oxygen, SBE 43 [umol/kg]',\n",
       "  'Fluorescence, WET Labs CDOM [mg/m^3]',\n",
       "  'Fluorescence, WET Labs ECO-AFL/FL [mg/m^3]',\n",
       "  'Beam Attenuation, WET Labs C-Star [1/m]',\n",
       "  'Time, Elapsed [seconds]',\n",
       "  'Latitude [deg]',\n",
       "  'Longitude [deg]',\n",
       "  'Salinity, Practical [PSU]',\n",
       "  'Salinity, Practical, 2 [PSU]',\n",
       "  'flag'],\n",
       " 'SN_info': ['Temperature SN = 5884', 'Conductivity SN = 2860'],\n",
       " 'moon_pool': False,\n",
       " 'SBEproc_hist': ['# </Sensors>\\n',\n",
       "  '# datcnv_date = Oct 05 2023 12:14:33, 7.26.7.129 [datcnv_vars = 12]\\n',\n",
       "  '# datcnv_in = Z:\\\\cruise_data\\\\ctd_classic_test\\\\ctd_cl_test\\\\raw\\\\sta0001.hex Z:\\\\cruise_data\\\\ctd_classic_test\\\\ctd_cl_test\\\\setup\\\\Sta0001.XMLCON\\n',\n",
       "  '# datcnv_skipover = 0\\n',\n",
       "  '# datcnv_ox_hysteresis_correction = yes\\n',\n",
       "  '# datcnv_ox_tau_correction = yes\\n',\n",
       "  '# filter_date = Oct 05 2023 12:14:34, 7.26.7.129\\n',\n",
       "  '# filter_in = Z:\\\\cruise_data\\\\ctd_classic_test\\\\ctd_cl_test\\\\proc\\\\sta0001.cnv\\n',\n",
       "  '# filter_low_pass_tc_A = 0.030\\n',\n",
       "  '# filter_low_pass_tc_B = 0.150\\n',\n",
       "  '# filter_low_pass_A_vars = sbox0Mm/Kg\\n',\n",
       "  '# filter_low_pass_B_vars = prDM wetCDOM flECO-AFL CStarAt0\\n',\n",
       "  '# celltm_date = Oct 05 2023 12:14:34, 7.26.7.129\\n',\n",
       "  '# celltm_in = Z:\\\\cruise_data\\\\ctd_classic_test\\\\ctd_cl_test\\\\proc\\\\sta0001.cnv\\n',\n",
       "  '# celltm_alpha = 0.0300, 0.0300\\n',\n",
       "  '# celltm_tau = 7.0000, 7.0000\\n',\n",
       "  '# celltm_temp_sensor_use_for_cond = primary, secondary\\n',\n",
       "  '# loopedit_date = Oct 05 2023 12:14:34, 7.26.7.129\\n',\n",
       "  '# loopedit_in = Z:\\\\cruise_data\\\\ctd_classic_test\\\\ctd_cl_test\\\\proc\\\\sta0001.cnv\\n',\n",
       "  '# loopedit_minVelocity = 0.250                                                                                            \\n',\n",
       "  '# loopedit_surfaceSoak: minDepth = 15.0, maxDepth = 25, useDeckPress = 0                                                  \\n',\n",
       "  '# loopedit_excl_bad_scans = yes\\n',\n",
       "  '# Derive_date = Oct 05 2023 12:14:35, 7.26.7.129 [derive_vars = 2]\\n',\n",
       "  '# Derive_in = Z:\\\\cruise_data\\\\ctd_classic_test\\\\ctd_cl_test\\\\proc\\\\sta0001.cnv Z:\\\\cruise_data\\\\ctd_classic_test\\\\ctd_cl_test\\\\setup\\\\Sta0001.XMLCON\\n',\n",
       "  '# file_type = ascii\\n',\n",
       "  '*END*\\n'],\n",
       " 'hdr_end_line': 319,\n",
       " 'latitude': 81.26816666666667,\n",
       " 'longitude': -9.785833333333333}"
      ]
     },
     "execution_count": 127,
     "metadata": {},
     "output_type": "execute_result"
    }
   ],
   "source": [
    "hdict"
   ]
  },
  {
   "cell_type": "code",
   "execution_count": null,
   "id": "ecaeccb9-981e-4bc3-9b07-208df143e761",
   "metadata": {},
   "outputs": [],
   "source": []
  }
 ],
 "metadata": {
  "kernelspec": {
   "display_name": "oyv",
   "language": "python",
   "name": "oyv"
  },
  "language_info": {
   "codemirror_mode": {
    "name": "ipython",
    "version": 3
   },
   "file_extension": ".py",
   "mimetype": "text/x-python",
   "name": "python",
   "nbconvert_exporter": "python",
   "pygments_lexer": "ipython3",
   "version": "3.11.5"
  }
 },
 "nbformat": 4,
 "nbformat_minor": 5
}
