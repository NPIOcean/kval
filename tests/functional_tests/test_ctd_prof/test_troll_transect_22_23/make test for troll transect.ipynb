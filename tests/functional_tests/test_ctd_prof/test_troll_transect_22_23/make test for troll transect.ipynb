{
 "cells": [
  {
   "cell_type": "code",
   "execution_count": 1,
   "id": "b9fbb16a-805a-447c-a63b-05274ed2fe0a",
   "metadata": {},
   "outputs": [],
   "source": [
    "from kval.io import sbe\n",
    "import glob2"
   ]
  },
  {
   "cell_type": "code",
   "execution_count": 2,
   "id": "de8c0722-6693-43df-85a3-86e350a0e4d6",
   "metadata": {},
   "outputs": [],
   "source": [
    "ctd_dir = '../../test_data/sbe_files/sbe911plus/troll_transect_22_23/'\n",
    "flist_cnv = glob2.glob(f'{ctd_dir}*cnv')\n",
    "flist_btl = glob2.glob(f'{ctd_dir}*btl')"
   ]
  },
  {
   "cell_type": "code",
   "execution_count": 3,
   "id": "9e49ec1b-bed1-4b6a-94a1-4774c15df82a",
   "metadata": {},
   "outputs": [
    {
     "ename": "UnboundLocalError",
     "evalue": "cannot access local variable 'loop_minvel' where it is not associated with a value",
     "output_type": "error",
     "traceback": [
      "\u001b[0;31m---------------------------------------------------------------------------\u001b[0m",
      "\u001b[0;31mUnboundLocalError\u001b[0m                         Traceback (most recent call last)",
      "Cell \u001b[0;32mIn[3], line 3\u001b[0m\n\u001b[1;32m      1\u001b[0m \u001b[38;5;66;03m# Read single cnv\u001b[39;00m\n\u001b[0;32m----> 3\u001b[0m \u001b[43msbe\u001b[49m\u001b[38;5;241;43m.\u001b[39;49m\u001b[43mread_cnv\u001b[49m\u001b[43m(\u001b[49m\u001b[43mflist_cnv\u001b[49m\u001b[43m[\u001b[49m\u001b[38;5;241;43m0\u001b[39;49m\u001b[43m]\u001b[49m\u001b[43m)\u001b[49m\n",
      "File \u001b[0;32m~/work/code/python/kval/src/kval/io/sbe.py:173\u001b[0m, in \u001b[0;36mread_cnv\u001b[0;34m(source_file, apply_flags, profile, time_dim, inspect_plot, start_scan, end_scan, suppress_time_warning, suppress_latlon_warning, start_time_NMEA, lat, lon, station, station_from_filename)\u001b[0m\n\u001b[1;32m    170\u001b[0m ds \u001b[38;5;241m=\u001b[39m _add_header_attrs(ds, header_info, station_from_filename)\n\u001b[1;32m    171\u001b[0m ds \u001b[38;5;241m=\u001b[39m _add_start_time(ds, header_info, \n\u001b[1;32m    172\u001b[0m                          start_time_NMEA \u001b[38;5;241m=\u001b[39m start_time_NMEA)\n\u001b[0;32m--> 173\u001b[0m ds \u001b[38;5;241m=\u001b[39m \u001b[43m_read_SBE_proc_steps\u001b[49m\u001b[43m(\u001b[49m\u001b[43mds\u001b[49m\u001b[43m,\u001b[49m\u001b[43m \u001b[49m\u001b[43mheader_info\u001b[49m\u001b[43m)\u001b[49m\n\u001b[1;32m    175\u001b[0m ds0 \u001b[38;5;241m=\u001b[39m ds\u001b[38;5;241m.\u001b[39mcopy()\n\u001b[1;32m    177\u001b[0m \u001b[38;5;28;01mif\u001b[39;00m apply_flags:\n",
      "File \u001b[0;32m~/work/code/python/kval/src/kval/io/sbe.py:752\u001b[0m, in \u001b[0;36m_read_SBE_proc_steps\u001b[0;34m(ds, header_info)\u001b[0m\n\u001b[1;32m    749\u001b[0m     \u001b[38;5;28;01melse\u001b[39;00m:\n\u001b[1;32m    750\u001b[0m         loop_ss_deckpress_str \u001b[38;5;241m=\u001b[39m \u001b[38;5;124m'\u001b[39m\u001b[38;5;124mYes\u001b[39m\u001b[38;5;124m'\u001b[39m\n\u001b[0;32m--> 752\u001b[0m \u001b[38;5;28;01mif\u001b[39;00m \u001b[38;5;124m'\u001b[39m\u001b[38;5;124mloopedit_excl_bad_scans\u001b[39m\u001b[38;5;124m'\u001b[39m \u001b[38;5;129;01min\u001b[39;00m line \u001b[38;5;129;01mand\u001b[39;00m \u001b[38;5;28mfloat\u001b[39m(\u001b[43mloop_minvel\u001b[49m)\u001b[38;5;241m>\u001b[39m\u001b[38;5;241m0\u001b[39m:\n\u001b[1;32m    753\u001b[0m     loop_excl_bad_scans \u001b[38;5;241m=\u001b[39m re\u001b[38;5;241m.\u001b[39msearch(\u001b[38;5;124mr\u001b[39m\u001b[38;5;124m'\u001b[39m\u001b[38;5;124m= (.+)\u001b[39m\u001b[38;5;124m'\u001b[39m, line)\u001b[38;5;241m.\u001b[39mgroup(\u001b[38;5;241m1\u001b[39m)\n\u001b[1;32m    754\u001b[0m     \u001b[38;5;28;01mif\u001b[39;00m loop_excl_bad_scans \u001b[38;5;241m==\u001b[39m \u001b[38;5;124m'\u001b[39m\u001b[38;5;124myes\u001b[39m\u001b[38;5;124m'\u001b[39m:\n",
      "\u001b[0;31mUnboundLocalError\u001b[0m: cannot access local variable 'loop_minvel' where it is not associated with a value"
     ]
    }
   ],
   "source": [
    "# Read single cnv\n",
    "\n",
    "sbe.read_cnv(flist_cnv[0])"
   ]
  },
  {
   "cell_type": "code",
   "execution_count": 16,
   "id": "f816395f-57dc-448c-9609-0cc772dbbca8",
   "metadata": {},
   "outputs": [],
   "source": [
    "line = '# loopedit_percentMeanSpeed: minV = 0.125, ws = 300, percent = 20.00                                                      '\n"
   ]
  },
  {
   "cell_type": "code",
   "execution_count": 17,
   "id": "d6bfccad-6d15-476c-a7a7-bed190fae87a",
   "metadata": {},
   "outputs": [],
   "source": [
    "import re"
   ]
  },
  {
   "cell_type": "code",
   "execution_count": 18,
   "id": "6930fe76-36d8-4316-a696-5f6849a39a07",
   "metadata": {},
   "outputs": [],
   "source": [
    "loop_minpct_minvel = re.search(r'minV = (\\d+(\\.\\d+)?)', line).group(1)\n",
    "loop_minpct_ws = re.search(r'ws = (\\d+(\\.\\d+)?)', line).group(1)\n",
    "loop_minpct_pct = re.search(r'percent = (\\d+(\\.\\d+)?)', line).group(1)"
   ]
  },
  {
   "cell_type": "code",
   "execution_count": 21,
   "id": "e5222d1e-ae8c-406c-8607-190b1e4df29a",
   "metadata": {},
   "outputs": [
    {
     "data": {
      "text/plain": [
       "'20.00'"
      ]
     },
     "execution_count": 21,
     "metadata": {},
     "output_type": "execute_result"
    }
   ],
   "source": [
    "loop_minpct_pct"
   ]
  },
  {
   "cell_type": "code",
   "execution_count": null,
   "id": "388e6be9-f7a6-4b9e-bc3f-843f6b9a3085",
   "metadata": {},
   "outputs": [],
   "source": []
  }
 ],
 "metadata": {
  "kernelspec": {
   "display_name": "oyv",
   "language": "python",
   "name": "oyv"
  },
  "language_info": {
   "codemirror_mode": {
    "name": "ipython",
    "version": 3
   },
   "file_extension": ".py",
   "mimetype": "text/x-python",
   "name": "python",
   "nbconvert_exporter": "python",
   "pygments_lexer": "ipython3",
   "version": "3.11.5"
  }
 },
 "nbformat": 4,
 "nbformat_minor": 5
}
