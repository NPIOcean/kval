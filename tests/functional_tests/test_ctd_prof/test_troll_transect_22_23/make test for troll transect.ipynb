{
 "cells": [
  {
   "cell_type": "code",
   "execution_count": 1,
   "id": "b9fbb16a-805a-447c-a63b-05274ed2fe0a",
   "metadata": {},
   "outputs": [
    {
     "ename": "ModuleNotFoundError",
     "evalue": "No module named 'oceanograpy'",
     "output_type": "error",
     "traceback": [
      "\u001b[0;31m---------------------------------------------------------------------------\u001b[0m",
      "\u001b[0;31mModuleNotFoundError\u001b[0m                       Traceback (most recent call last)",
      "Cell \u001b[0;32mIn[1], line 1\u001b[0m\n\u001b[0;32m----> 1\u001b[0m \u001b[38;5;28;01mfrom\u001b[39;00m \u001b[38;5;21;01mkval\u001b[39;00m\u001b[38;5;21;01m.\u001b[39;00m\u001b[38;5;21;01mio\u001b[39;00m \u001b[38;5;28;01mimport\u001b[39;00m sbe\n\u001b[1;32m      2\u001b[0m \u001b[38;5;28;01mimport\u001b[39;00m \u001b[38;5;21;01mglob2\u001b[39;00m\n",
      "File \u001b[0;32m~/work/code/python/kval/src/kval/io/sbe.py:46\u001b[0m\n\u001b[1;32m     44\u001b[0m \u001b[38;5;28;01mimport\u001b[39;00m \u001b[38;5;21;01mxarray\u001b[39;00m \u001b[38;5;28;01mas\u001b[39;00m \u001b[38;5;21;01mxr\u001b[39;00m\n\u001b[1;32m     45\u001b[0m \u001b[38;5;28;01mimport\u001b[39;00m \u001b[38;5;21;01mnumpy\u001b[39;00m \u001b[38;5;28;01mas\u001b[39;00m \u001b[38;5;21;01mnp\u001b[39;00m\n\u001b[0;32m---> 46\u001b[0m \u001b[38;5;28;01mfrom\u001b[39;00m \u001b[38;5;21;01moceanograpy\u001b[39;00m\u001b[38;5;21;01m.\u001b[39;00m\u001b[38;5;21;01mio\u001b[39;00m \u001b[38;5;28;01mimport\u001b[39;00m _variable_defs \u001b[38;5;28;01mas\u001b[39;00m vardef\n\u001b[1;32m     47\u001b[0m \u001b[38;5;28;01mfrom\u001b[39;00m \u001b[38;5;21;01moceanograpy\u001b[39;00m\u001b[38;5;21;01m.\u001b[39;00m\u001b[38;5;21;01mutil\u001b[39;00m \u001b[38;5;28;01mimport\u001b[39;00m time\n\u001b[1;32m     48\u001b[0m \u001b[38;5;28;01mimport\u001b[39;00m \u001b[38;5;21;01mmatplotlib\u001b[39;00m\u001b[38;5;21;01m.\u001b[39;00m\u001b[38;5;21;01mpyplot\u001b[39;00m \u001b[38;5;28;01mas\u001b[39;00m \u001b[38;5;21;01mplt\u001b[39;00m\n",
      "\u001b[0;31mModuleNotFoundError\u001b[0m: No module named 'oceanograpy'"
     ]
    }
   ],
   "source": [
    "from kval.io import sbe\n",
    "import glob2"
   ]
  },
  {
   "cell_type": "code",
   "execution_count": null,
   "id": "de8c0722-6693-43df-85a3-86e350a0e4d6",
   "metadata": {},
   "outputs": [],
   "source": [
    "ctd_dir = '../../test_data/sbe_files/sbe911plus/troll_transect_22_23/'\n",
    "ctd_dir = '/home/oyvindl/work/data/cruise_data/troll_transect/TT202223/troll_transect_ctd_2022_2023-main/data/source/CTD/proc/'\n",
    "flist_cnv = glob2.glob(f'{ctd_dir}*cnv')\n",
    "flist_btl = glob2.glob(f'{ctd_dir}*btl')"
   ]
  },
  {
   "cell_type": "code",
   "execution_count": null,
   "id": "9e49ec1b-bed1-4b6a-94a1-4774c15df82a",
   "metadata": {},
   "outputs": [],
   "source": [
    "# Read single cnv\n",
    "\n",
    "sbe.read_cnv(flist_cnv[0])"
   ]
  },
  {
   "cell_type": "code",
   "execution_count": 16,
   "id": "f816395f-57dc-448c-9609-0cc772dbbca8",
   "metadata": {},
   "outputs": [],
   "source": [
    "line = '# loopedit_percentMeanSpeed: minV = 0.125, ws = 300, percent = 20.00                                                      '\n"
   ]
  },
  {
   "cell_type": "code",
   "execution_count": 17,
   "id": "d6bfccad-6d15-476c-a7a7-bed190fae87a",
   "metadata": {},
   "outputs": [],
   "source": [
    "import re"
   ]
  },
  {
   "cell_type": "code",
   "execution_count": 18,
   "id": "6930fe76-36d8-4316-a696-5f6849a39a07",
   "metadata": {},
   "outputs": [],
   "source": [
    "loop_minpct_minvel = re.search(r'minV = (\\d+(\\.\\d+)?)', line).group(1)\n",
    "loop_minpct_ws = re.search(r'ws = (\\d+(\\.\\d+)?)', line).group(1)\n",
    "loop_minpct_pct = re.search(r'percent = (\\d+(\\.\\d+)?)', line).group(1)"
   ]
  },
  {
   "cell_type": "code",
   "execution_count": 21,
   "id": "e5222d1e-ae8c-406c-8607-190b1e4df29a",
   "metadata": {},
   "outputs": [
    {
     "data": {
      "text/plain": [
       "'20.00'"
      ]
     },
     "execution_count": 21,
     "metadata": {},
     "output_type": "execute_result"
    }
   ],
   "source": [
    "loop_minpct_pct"
   ]
  },
  {
   "cell_type": "code",
   "execution_count": null,
   "id": "388e6be9-f7a6-4b9e-bc3f-843f6b9a3085",
   "metadata": {},
   "outputs": [],
   "source": []
  }
 ],
 "metadata": {
  "kernelspec": {
   "display_name": "oyv",
   "language": "python",
   "name": "oyv"
  },
  "language_info": {
   "codemirror_mode": {
    "name": "ipython",
    "version": 3
   },
   "file_extension": ".py",
   "mimetype": "text/x-python",
   "name": "python",
   "nbconvert_exporter": "python",
   "pygments_lexer": "ipython3",
   "version": "3.11.5"
  }
 },
 "nbformat": 4,
 "nbformat_minor": 5
}
