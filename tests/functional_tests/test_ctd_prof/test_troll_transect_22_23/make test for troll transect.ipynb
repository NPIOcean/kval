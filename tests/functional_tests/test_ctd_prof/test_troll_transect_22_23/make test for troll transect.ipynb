{
 "cells": [
  {
   "cell_type": "code",
   "execution_count": 28,
   "id": "b9fbb16a-805a-447c-a63b-05274ed2fe0a",
   "metadata": {},
   "outputs": [],
   "source": [
    "from kval.io import sbe\n",
    "import glob2\n",
    "import importlib as imp"
   ]
  },
  {
   "cell_type": "code",
   "execution_count": 29,
   "id": "4e03bf03-d850-4172-ad47-90cdcf0ff460",
   "metadata": {},
   "outputs": [
    {
     "data": {
      "text/plain": [
       "<module 'kval.io.sbe' from '/home/oyvindl/work/code/python/kval/src/kval/io/sbe.py'>"
      ]
     },
     "execution_count": 29,
     "metadata": {},
     "output_type": "execute_result"
    }
   ],
   "source": [
    "imp.reload(sbe)"
   ]
  },
  {
   "cell_type": "code",
   "execution_count": 30,
   "id": "de8c0722-6693-43df-85a3-86e350a0e4d6",
   "metadata": {},
   "outputs": [],
   "source": [
    "ctd_dir = '../../test_data/sbe_files/sbe911plus/troll_transect_22_23/'\n",
    "ctd_dir = '/home/oyvindl/work/data/cruise_data/troll_transect/TT202223/troll_transect_ctd_2022_2023-main/data/source/CTD/proc/'\n",
    "flist_cnv = glob2.glob(f'{ctd_dir}*cnv')\n",
    "flist_btl = glob2.glob(f'{ctd_dir}*btl')"
   ]
  },
  {
   "cell_type": "code",
   "execution_count": 31,
   "id": "9e49ec1b-bed1-4b6a-94a1-4774c15df82a",
   "metadata": {},
   "outputs": [
    {
     "name": "stdout",
     "output_type": "stream",
     "text": [
      "SBE SOFTWARE PROCESSING STEPS (extracted from .cnv file header):\n",
      "1. Raw data read from 006.HEX, 006.XMLCON.\n",
      "2. Oxygen hysteresis correction applied.\n",
      "3. Oxygen tau correction applied.\n",
      "4. Low-pass filter with time constant 0.03 seconds applied to: sbox0Mm/Kg xmiss bat v1 v2.\n",
      "5. Low-pass filter with time constant 0.15 seconds applied to: prDM flECO-AFL.\n",
      "6. Cell thermal mass correction applied to conductivity from sensors: [primary, secondary]. \n",
      "   > Parameters ALPHA: [0.0300, 0.0300], TAU: [7.0000, 7.0000].\n",
      "7. Loop editing applied.\n",
      "   > Parameters:\n",
      "     Minimum velocity: 20.00% of mean velocity within a 300-pt window\n",
      "(>0.125 ms-1 for the first window). \n",
      "     Soak depth range (m): 10.0 to 200, \n",
      "   > Bad scans excluded. Deck pressure offset: No.\n",
      "8. Wild editing applied.\n",
      "   > Parameters: n_std (first pass): 2.0, n_std (second pass): 20.0, min_delta: 0.0,\n",
      "   > # points per test: 1000.0.\n",
      "   > Applied to variables: prDM t090C t190C c0S/m c1S/m sbox0Mm/Kg flECO-AFL xmiss bat v1 v2 latitude longitude.\n",
      "9. Derived EOS-8 salinity and other variables.\n",
      "10. Bin averaged (1 decibars).\n",
      "   > Bad scans not excluded, skipped over 0 initial scans.\n",
      "   > (No surface bin).\n"
     ]
    }
   ],
   "source": [
    "# Read single cnv\n",
    "\n",
    "print(sbe.read_cnv(flist_cnv[0]).SBE_processing)"
   ]
  },
  {
   "cell_type": "code",
   "execution_count": null,
   "id": "6cf896f4-f012-4ed9-bf80-0a0afce7ead3",
   "metadata": {},
   "outputs": [],
   "source": [
    "d.S"
   ]
  },
  {
   "cell_type": "code",
   "execution_count": 16,
   "id": "f816395f-57dc-448c-9609-0cc772dbbca8",
   "metadata": {},
   "outputs": [],
   "source": [
    "line = '# loopedit_percentMeanSpeed: minV = 0.125, ws = 300, percent = 20.00                                                      '\n"
   ]
  },
  {
   "cell_type": "code",
   "execution_count": 17,
   "id": "d6bfccad-6d15-476c-a7a7-bed190fae87a",
   "metadata": {},
   "outputs": [],
   "source": [
    "import re"
   ]
  },
  {
   "cell_type": "code",
   "execution_count": 18,
   "id": "6930fe76-36d8-4316-a696-5f6849a39a07",
   "metadata": {},
   "outputs": [],
   "source": [
    "loop_minpct_minvel = re.search(r'minV = (\\d+(\\.\\d+)?)', line).group(1)\n",
    "loop_minpct_ws = re.search(r'ws = (\\d+(\\.\\d+)?)', line).group(1)\n",
    "loop_minpct_pct = re.search(r'percent = (\\d+(\\.\\d+)?)', line).group(1)"
   ]
  },
  {
   "cell_type": "code",
   "execution_count": 21,
   "id": "e5222d1e-ae8c-406c-8607-190b1e4df29a",
   "metadata": {},
   "outputs": [
    {
     "data": {
      "text/plain": [
       "'20.00'"
      ]
     },
     "execution_count": 21,
     "metadata": {},
     "output_type": "execute_result"
    }
   ],
   "source": [
    "loop_minpct_pct"
   ]
  },
  {
   "cell_type": "code",
   "execution_count": null,
   "id": "388e6be9-f7a6-4b9e-bc3f-843f6b9a3085",
   "metadata": {},
   "outputs": [],
   "source": []
  }
 ],
 "metadata": {
  "kernelspec": {
   "display_name": "oyv",
   "language": "python",
   "name": "oyv"
  },
  "language_info": {
   "codemirror_mode": {
    "name": "ipython",
    "version": 3
   },
   "file_extension": ".py",
   "mimetype": "text/x-python",
   "name": "python",
   "nbconvert_exporter": "python",
   "pygments_lexer": "ipython3",
   "version": "3.11.5"
  }
 },
 "nbformat": 4,
 "nbformat_minor": 5
}
