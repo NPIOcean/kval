{
 "cells": [
  {
   "cell_type": "markdown",
   "id": "0ce0e253-184d-427b-bc1e-93287eafaa2a",
   "metadata": {},
   "source": [
    "# Testing with a mock dataset"
   ]
  },
  {
   "cell_type": "code",
   "execution_count": 2,
   "id": "13322ef1-f3d0-4010-b273-e9e4b3ca8e35",
   "metadata": {},
   "outputs": [
    {
     "data": {
      "text/plain": [
       "'/home/oyvindl/work/code/python/kval/tests/functional_tests/test_ctd_prof/test_ctd_edit_pipeline'"
      ]
     },
     "execution_count": 2,
     "metadata": {},
     "output_type": "execute_result"
    }
   ],
   "source": [
    "pwd"
   ]
  },
  {
   "cell_type": "code",
   "execution_count": 3,
   "id": "739902fe-fb27-4369-b5eb-8a76eb0f20bf",
   "metadata": {},
   "outputs": [],
   "source": [
    "import xarray as xr\n",
    "import numpy as np\n",
    "import pandas as pd"
   ]
  },
  {
   "cell_type": "markdown",
   "id": "0c9b8a48-6bae-413a-b6b3-37c87a16b368",
   "metadata": {},
   "source": [
    "### Create a mock dataset"
   ]
  },
  {
   "cell_type": "code",
   "execution_count": 4,
   "id": "7b415020-7919-4108-886c-37db7d59bc59",
   "metadata": {},
   "outputs": [],
   "source": [
    "# Define dimensions\n",
    "Nt = 10\n",
    "time = pd.date_range('2024-01-01', periods=Nt, freq='D')\n",
    "pres = [100, 600, 2000, 6000, 11000]  # Pressure levels\n",
    "\n",
    "# Create data for TEMP(TIME, PRES)\n",
    "temp_data = 15 + 8 * np.random.randn(Nt, len(pres))  # Example temperature data\n",
    "\n",
    "# Create data for STATION(TIME) and PLACE(TIME)\n",
    "station_data = [f'st{stnum:02.0f}' for stnum in np.arange(1, Nt+1)]\n",
    "ocean_data = ['Atlantic', 'Arctic', 'Pacific', 'Mediterranean', 'Southern', \n",
    "                              'Baltic', 'Indian', 'Caribbean', 'Weddell', 'Ross']\n",
    "\n",
    "# Create data for ZONE(PRES)\n",
    "zone_data = ['epipelagic', 'mesopelagic', 'bathypelagic', 'abyssopelagic', 'hadopelagic']\n",
    "\n",
    "# Create the Dataset\n",
    "ds = xr.Dataset(\n",
    "    {\n",
    "        'TEMP': (['TIME', 'PRES'], temp_data),\n",
    "        'OCEAN': (['TIME'], ocean_data),\n",
    "        'STATION': (['TIME'], station_data),\n",
    "        'ZONE': (['PRES'], zone_data)\n",
    "    },\n",
    "    coords={\n",
    "        'TIME': time,\n",
    "        'PRES': pres\n",
    "    }\n",
    ")"
   ]
  },
  {
   "cell_type": "markdown",
   "id": "bfab9cd0-8a3b-4a5f-92c8-7287cee089c9",
   "metadata": {},
   "source": [
    "## Test / do stuff "
   ]
  },
  {
   "cell_type": "code",
   "execution_count": null,
   "id": "7abde8ae-0203-43bd-8352-0321c5df5f0c",
   "metadata": {},
   "outputs": [],
   "source": []
  }
 ],
 "metadata": {
  "kernelspec": {
   "display_name": "Python [conda env:oyv2] *",
   "language": "python",
   "name": "conda-env-oyv2-py"
  },
  "language_info": {
   "codemirror_mode": {
    "name": "ipython",
    "version": 3
   },
   "file_extension": ".py",
   "mimetype": "text/x-python",
   "name": "python",
   "nbconvert_exporter": "python",
   "pygments_lexer": "ipython3",
   "version": "3.12.3"
  }
 },
 "nbformat": 4,
 "nbformat_minor": 5
}
